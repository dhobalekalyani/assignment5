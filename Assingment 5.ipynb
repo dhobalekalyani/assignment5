{
 "cells": [
  {
   "cell_type": "code",
   "execution_count": 19,
   "id": "48bd4fa7",
   "metadata": {},
   "outputs": [
    {
     "name": "stdout",
     "output_type": "stream",
     "text": [
      "35\n"
     ]
    }
   ],
   "source": [
    "#Challenge 1: Square Numbers and Return Their Sum\n",
    "class Point:\n",
    "\n",
    "    def __init__(self,x,y,z):\n",
    "        self.x = x\n",
    "        self.y = y\n",
    "        self.z = z\n",
    "\n",
    "    def sqSum(self):\n",
    "        return self.x**2 + self.y**2 + self.z**2\n",
    "p = Point(1,3,5)\n",
    "print(p.sqSum())"
   ]
  },
  {
   "cell_type": "code",
   "execution_count": 1,
   "id": "b77ff6d9",
   "metadata": {},
   "outputs": [
    {
     "name": "stdout",
     "output_type": "stream",
     "text": [
      "104\n",
      "-84\n",
      "940\n",
      "9.4\n",
      "cannot divide by zero\n"
     ]
    }
   ],
   "source": [
    "#Challenge 2: Implement a Calculator Class\n",
    "class Calculator:\n",
    "    def __init__(self,num1,num2):\n",
    "        self.num1 = num1\n",
    "        self.num2 = num2\n",
    "        \n",
    "    def add(self):\n",
    "        return self.num1 + self.num2\n",
    "    def subtract(self):\n",
    "        return self.num1 - self.num2\n",
    "    def multiply(self):\n",
    "        return self.num1 * self.num2\n",
    "    def divide(self):\n",
    "        if self.num1 == 0:\n",
    "            return \"cannot divide by zero\"\n",
    "        else:\n",
    "            return self.num2/self.num1\n",
    "c = Calculator(10,94)\n",
    "print(c.add())\n",
    "print(c.subtract())\n",
    "print(c.multiply())\n",
    "print(c.divide())\n",
    "c = Calculator(0,5)\n",
    "print(c.divide())\n",
    "    "
   ]
  },
  {
   "cell_type": "code",
   "execution_count": 9,
   "id": "96af8331",
   "metadata": {},
   "outputs": [
    {
     "name": "stdout",
     "output_type": "stream",
     "text": [
      "kalyani\n",
      "12345\n",
      "pallavi\n",
      "6789\n"
     ]
    }
   ],
   "source": [
    "\n",
    "#Challenge 3: Implement the Complete Student Class\n",
    "class Student:\n",
    "    def __init__(self, name, rollNumber):\n",
    "        self.__name = name\n",
    "        self.__rollNumber = rollNumber\n",
    "        \n",
    "    def getName(self):\n",
    "        return self.__name\n",
    "    \n",
    "    def setName(self, name):\n",
    "        self.__name = name\n",
    "    \n",
    "    def getRollNumber(self):\n",
    "        return self.__rollNumber \n",
    "    \n",
    "    def setRollNumber(self, rollNumber):\n",
    "        self.__rollNumber = rollNumber\n",
    "\n",
    "Student1 = Student(\"kalyani\", 12345) \n",
    "print(Student1.getName())\n",
    "print(Student1.getRollNumber())\n",
    "\n",
    "Student1.setName(\"pallavi\")\n",
    "Student1.setRollNumber(6789)\n",
    "print(Student1.getName())\n",
    "print(Student1.getRollNumber())\n"
   ]
  },
  {
   "cell_type": "code",
   "execution_count": 5,
   "id": "5b2ce9cf",
   "metadata": {},
   "outputs": [
    {
     "name": "stdout",
     "output_type": "stream",
     "text": [
      "my saving account\n",
      "5000\n",
      "0.01\n",
      "0.02\n"
     ]
    }
   ],
   "source": [
    "#Challenge 4: Implement a Banking Account\n",
    "class Account:\n",
    "\n",
    "    def __init__(self, title=None, balance=None):\n",
    "        self.title = title\n",
    "        self.balance = balance\n",
    "        \n",
    "class SavingsAccount(Account):\n",
    "\n",
    "    def __init__(self, title=None, balance=None, interestRate=None):\n",
    "        super().__init__(title, balance)\n",
    "        self.interestRate = interestRate\n",
    "\n",
    "savings = SavingsAccount(\"my saving account\", 5000, 0.01)\n",
    "print(savings.title)\n",
    "print(savings.balance)\n",
    "print(savings.interestRate)\n",
    "\n",
    "savings.interestRate = 0.02\n",
    "print(savings.interestRate)\n"
   ]
  },
  {
   "cell_type": "code",
   "execution_count": null,
   "id": "dde6a6b9",
   "metadata": {},
   "outputs": [],
   "source": [
    "#Challenge 5: Handling a Bank Account\n",
    "class Account:\n",
    "    def __init__(self, title=None, balance=0):\n",
    "        self.title = title\n",
    "        self.balance = balance\n",
    "    \n",
    "    def withdrawal(self, amount):\n",
    "        self.balance -= amount\n",
    "\n",
    "    def deposit(self, amount):\n",
    "        self.balance += amount\n",
    "    \n",
    "    def getBalance(self):\n",
    "        return self.balance\n",
    "\n",
    "\n",
    "class SavingsAccount(Account):\n",
    "    def __init__(self, title=None, balance=0, interestRate=0):\n",
    "        super().__init__(title, balance)\n",
    "        self.interestRate = interestRate\n",
    "    \n",
    "    def interestAmount(self):\n",
    "        return (self.balance * self.interestRate) / 100\n"
   ]
  }
 ],
 "metadata": {
  "kernelspec": {
   "display_name": "Python 3 (ipykernel)",
   "language": "python",
   "name": "python3"
  },
  "language_info": {
   "codemirror_mode": {
    "name": "ipython",
    "version": 3
   },
   "file_extension": ".py",
   "mimetype": "text/x-python",
   "name": "python",
   "nbconvert_exporter": "python",
   "pygments_lexer": "ipython3",
   "version": "3.9.13"
  }
 },
 "nbformat": 4,
 "nbformat_minor": 5
}
